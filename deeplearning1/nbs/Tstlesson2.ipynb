{
 "cells": [
  {
   "cell_type": "code",
   "execution_count": 1,
   "metadata": {
    "collapsed": false
   },
   "outputs": [
    {
     "name": "stderr",
     "output_type": "stream",
     "text": [
      "Using TensorFlow backend.\n"
     ]
    }
   ],
   "source": [
    "%matplotlib inline\n",
    "import utils; utils.importlib.reload(utils)\n",
    "from utils import *"
   ]
  },
  {
   "cell_type": "code",
   "execution_count": 5,
   "metadata": {
    "collapsed": false
   },
   "outputs": [],
   "source": [
    "x = random((30,2))\n",
    "y = np.dot(x, [1.,3.]) + 1"
   ]
  },
  {
   "cell_type": "code",
   "execution_count": 31,
   "metadata": {
    "collapsed": false
   },
   "outputs": [],
   "source": [
    "lm = Sequential([Dense(1, input_shape=(2,))])"
   ]
  },
  {
   "cell_type": "code",
   "execution_count": 32,
   "metadata": {
    "collapsed": false
   },
   "outputs": [],
   "source": [
    "lm.compile(optimizer=SGD(lr=0.1),loss='mse')"
   ]
  },
  {
   "cell_type": "code",
   "execution_count": 33,
   "metadata": {
    "collapsed": false
   },
   "outputs": [
    {
     "name": "stdout",
     "output_type": "stream",
     "text": [
      "30/30 [==============================] - 0s\n"
     ]
    },
    {
     "data": {
      "text/plain": [
       "10.702936172485352"
      ]
     },
     "execution_count": 33,
     "metadata": {},
     "output_type": "execute_result"
    }
   ],
   "source": [
    "lm.evaluate(x,y)"
   ]
  },
  {
   "cell_type": "code",
   "execution_count": 34,
   "metadata": {
    "collapsed": false
   },
   "outputs": [
    {
     "name": "stdout",
     "output_type": "stream",
     "text": [
      "Epoch 1/50\n",
      "30/30 [==============================] - 0s - loss: 1.1600     \n",
      "Epoch 2/50\n",
      "30/30 [==============================] - 0s - loss: 0.3885     \n",
      "Epoch 3/50\n",
      "30/30 [==============================] - 0s - loss: 0.1288     \n",
      "Epoch 4/50\n",
      "30/30 [==============================] - 0s - loss: 0.0473     \n",
      "Epoch 5/50\n",
      "30/30 [==============================] - 0s - loss: 0.0141     \n",
      "Epoch 6/50\n",
      "30/30 [==============================] - 0s - loss: 0.0066         \n",
      "Epoch 7/50\n",
      "30/30 [==============================] - 0s - loss: 0.0031     \n",
      "Epoch 8/50\n",
      "30/30 [==============================] - 0s - loss: 0.0014         \n",
      "Epoch 9/50\n",
      "30/30 [==============================] - 0s - loss: 7.2260e-04     \n",
      "Epoch 10/50\n",
      "30/30 [==============================] - 0s - loss: 4.0935e-04     \n",
      "Epoch 11/50\n",
      "30/30 [==============================] - 0s - loss: 2.1931e-04     \n",
      "Epoch 12/50\n",
      "30/30 [==============================] - 0s - loss: 1.3166e-04 \n",
      "Epoch 13/50\n",
      "30/30 [==============================] - 0s - loss: 7.9316e-05     \n",
      "Epoch 14/50\n",
      "30/30 [==============================] - 0s - loss: 4.8787e-05     \n",
      "Epoch 15/50\n",
      "30/30 [==============================] - 0s - loss: 2.9990e-05     \n",
      "Epoch 16/50\n",
      "30/30 [==============================] - 0s - loss: 1.6888e-05     \n",
      "Epoch 17/50\n",
      "30/30 [==============================] - 0s - loss: 9.8788e-06     \n",
      "Epoch 18/50\n",
      "30/30 [==============================] - 0s - loss: 5.7658e-06     \n",
      "Epoch 19/50\n",
      "30/30 [==============================] - 0s - loss: 3.3048e-06     \n",
      "Epoch 20/50\n",
      "30/30 [==============================] - 0s - loss: 2.0442e-06     \n",
      "Epoch 21/50\n",
      "30/30 [==============================] - 0s - loss: 1.1475e-06     \n",
      "Epoch 22/50\n",
      "30/30 [==============================] - 0s - loss: 6.7565e-07     \n",
      "Epoch 23/50\n",
      "30/30 [==============================] - 0s - loss: 3.8911e-07     \n",
      "Epoch 24/50\n",
      "30/30 [==============================] - 0s - loss: 2.6020e-07     \n",
      "Epoch 25/50\n",
      "30/30 [==============================] - 0s - loss: 1.6442e-07     \n",
      "Epoch 26/50\n",
      "30/30 [==============================] - 0s - loss: 9.0961e-08     \n",
      "Epoch 27/50\n",
      "30/30 [==============================] - 0s - loss: 5.6052e-08     \n",
      "Epoch 28/50\n",
      "30/30 [==============================] - 0s - loss: 3.1893e-08     \n",
      "Epoch 29/50\n",
      "30/30 [==============================] - 0s - loss: 1.7540e-08     \n",
      "Epoch 30/50\n",
      "30/30 [==============================] - 0s - loss: 1.0079e-08     \n",
      "Epoch 31/50\n",
      "30/30 [==============================] - 0s - loss: 6.6589e-09     \n",
      "Epoch 32/50\n",
      "30/30 [==============================] - 0s - loss: 3.7348e-09     \n",
      "Epoch 33/50\n",
      "30/30 [==============================] - 0s - loss: 2.0475e-09     \n",
      "Epoch 34/50\n",
      "30/30 [==============================] - 0s - loss: 1.3151e-09     \n",
      "Epoch 35/50\n",
      "30/30 [==============================] - 0s - loss: 7.1651e-10     \n",
      "Epoch 36/50\n",
      "30/30 [==============================] - 0s - loss: 4.0973e-10     \n",
      "Epoch 37/50\n",
      "30/30 [==============================] - 0s - loss: 2.9045e-10     \n",
      "Epoch 38/50\n",
      "30/30 [==============================] - 0s - loss: 1.5076e-10     \n",
      "Epoch 39/50\n",
      "30/30 [==============================] - 0s - loss: 1.2084e-10     \n",
      "Epoch 40/50\n",
      "30/30 [==============================] - 0s - loss: 6.7078e-11     \n",
      "Epoch 41/50\n",
      "30/30 [==============================] - 0s - loss: 3.4893e-11     \n",
      "Epoch 42/50\n",
      "30/30 [==============================] - 0s - loss: 2.4302e-11     \n",
      "Epoch 43/50\n",
      "30/30 [==============================] - 0s - loss: 1.4261e-11     \n",
      "Epoch 44/50\n",
      "30/30 [==============================] - 0s - loss: 7.4839e-12     \n",
      "Epoch 45/50\n",
      "30/30 [==============================] - 0s - loss: 4.6365e-12     \n",
      "Epoch 46/50\n",
      "30/30 [==============================] - 0s - loss: 2.9151e-12     \n",
      "Epoch 47/50\n",
      "30/30 [==============================] - 0s - loss: 1.7058e-12     \n",
      "Epoch 48/50\n",
      "30/30 [==============================] - 0s - loss: 1.2051e-12     \n",
      "Epoch 49/50\n",
      "30/30 [==============================] - 0s - loss: 6.6980e-13     \n",
      "Epoch 50/50\n",
      "30/30 [==============================] - 0s - loss: 4.0643e-13     \n"
     ]
    },
    {
     "data": {
      "text/plain": [
       "<keras.callbacks.History at 0x7f5069d81eb8>"
      ]
     },
     "execution_count": 34,
     "metadata": {},
     "output_type": "execute_result"
    }
   ],
   "source": [
    "lm.fit(x,y,nb_epoch=5,batch_size=1)"
   ]
  },
  {
   "cell_type": "code",
   "execution_count": 35,
   "metadata": {
    "collapsed": false
   },
   "outputs": [
    {
     "name": "stdout",
     "output_type": "stream",
     "text": [
      "30/30 [==============================] - 0s\n"
     ]
    },
    {
     "data": {
      "text/plain": [
       "2.3021585722829419e-13"
      ]
     },
     "execution_count": 35,
     "metadata": {},
     "output_type": "execute_result"
    }
   ],
   "source": [
    "lm.evaluate(x,y)"
   ]
  },
  {
   "cell_type": "code",
   "execution_count": 36,
   "metadata": {
    "collapsed": false
   },
   "outputs": [
    {
     "data": {
      "text/plain": [
       "[array([[ 1.],\n",
       "        [ 3.]], dtype=float32), array([ 1.], dtype=float32)]"
      ]
     },
     "execution_count": 36,
     "metadata": {},
     "output_type": "execute_result"
    }
   ],
   "source": [
    "lm.get_weights()"
   ]
  },
  {
   "cell_type": "code",
   "execution_count": 108,
   "metadata": {
    "collapsed": false
   },
   "outputs": [],
   "source": [
    "path = 'data/dogscats/'\n",
    "path = path + 'sample/'\n",
    "model_path = path + 'models/'\n",
    "if not os.path.lexists(model_path): os.mkdir(model_path)"
   ]
  },
  {
   "cell_type": "code",
   "execution_count": 109,
   "metadata": {
    "collapsed": true
   },
   "outputs": [],
   "source": [
    "batch_size=4"
   ]
  },
  {
   "cell_type": "code",
   "execution_count": 110,
   "metadata": {
    "collapsed": true
   },
   "outputs": [],
   "source": [
    "from vgg16 import Vgg16\n",
    "vgg = Vgg16()"
   ]
  },
  {
   "cell_type": "code",
   "execution_count": 111,
   "metadata": {
    "collapsed": true
   },
   "outputs": [],
   "source": [
    "model = vgg.model"
   ]
  },
  {
   "cell_type": "markdown",
   "metadata": {},
   "source": [
    "Get true labels for all images\n",
    "\n",
    "Get 1000 imagenet category pred for each image\n",
    "\n",
    "Make linear model mapping (1000,1)->(2,1) for imagenet predictions->cats/dogs"
   ]
  },
  {
   "cell_type": "code",
   "execution_count": 112,
   "metadata": {
    "collapsed": false
   },
   "outputs": [
    {
     "name": "stdout",
     "output_type": "stream",
     "text": [
      "Found 16 images belonging to 2 classes.\n",
      "Found 8 images belonging to 2 classes.\n"
     ]
    }
   ],
   "source": [
    "batches = get_batches(path + 'train', shuffle=False,batch_size=1)\n",
    "val_batches = get_batches(path + 'valid',shuffle=False,batch_size=1)"
   ]
  },
  {
   "cell_type": "code",
   "execution_count": 113,
   "metadata": {
    "collapsed": true
   },
   "outputs": [],
   "source": [
    "def save_array(fname,arr): c=bcolz.carray(arr,rootdir=fname,mode='w'); c.flush()\n",
    "def load_array(fname): return bcolz.open(fname)[:]"
   ]
  },
  {
   "cell_type": "code",
   "execution_count": 114,
   "metadata": {
    "collapsed": false
   },
   "outputs": [
    {
     "name": "stdout",
     "output_type": "stream",
     "text": [
      "Found 8 images belonging to 2 classes.\n"
     ]
    }
   ],
   "source": [
    "val_data = get_data(path+'valid')"
   ]
  },
  {
   "cell_type": "code",
   "execution_count": 115,
   "metadata": {
    "collapsed": false
   },
   "outputs": [
    {
     "name": "stdout",
     "output_type": "stream",
     "text": [
      "Found 16 images belonging to 2 classes.\n"
     ]
    }
   ],
   "source": [
    "tr_data = get_data(path+'train')"
   ]
  },
  {
   "cell_type": "code",
   "execution_count": 116,
   "metadata": {
    "collapsed": false
   },
   "outputs": [],
   "source": [
    "save_array(model_path + 'tr_data.bc',tr_data)\n",
    "save_array(model_path + 'val_data.bc',val_data)"
   ]
  },
  {
   "cell_type": "code",
   "execution_count": 117,
   "metadata": {
    "collapsed": true
   },
   "outputs": [],
   "source": [
    "tr_data = load_array(model_path + 'tr_data.bc')\n",
    "val_data = load_array(model_path + 'val_data.bc')"
   ]
  },
  {
   "cell_type": "code",
   "execution_count": 118,
   "metadata": {
    "collapsed": false
   },
   "outputs": [],
   "source": [
    "def onehot(x): return np.array(OneHotEncoder().fit_transform(x.reshape(-1,1)).todense())"
   ]
  },
  {
   "cell_type": "code",
   "execution_count": 119,
   "metadata": {
    "collapsed": false
   },
   "outputs": [],
   "source": [
    "val_classes = val_batches.classes\n",
    "tr_classes = batches.classes\n",
    "val_labels = onehot(val_classes)\n",
    "tr_labels = onehot(tr_classes)"
   ]
  },
  {
   "cell_type": "code",
   "execution_count": 120,
   "metadata": {
    "collapsed": false
   },
   "outputs": [],
   "source": [
    "tr_features = model.predict(tr_data,batch_size=batch_size)\n",
    "val_features = model.predict(val_data,batch_size=batch_size)"
   ]
  },
  {
   "cell_type": "code",
   "execution_count": 121,
   "metadata": {
    "collapsed": true
   },
   "outputs": [],
   "source": [
    "save_array(model_path + 'tr_lastlayer_features.bc',tr_features)\n",
    "save_array(model_path + 'val_lastlayer_features.bc',val_features)"
   ]
  },
  {
   "cell_type": "code",
   "execution_count": 122,
   "metadata": {
    "collapsed": true
   },
   "outputs": [],
   "source": [
    "lm = Sequential([Dense(2, activation='softmax',input_shape=(1000,))])"
   ]
  },
  {
   "cell_type": "code",
   "execution_count": 123,
   "metadata": {
    "collapsed": false
   },
   "outputs": [],
   "source": [
    "lm.compile(optimizer=RMSprop(lr=0.01),loss='categorical_crossentropy',metrics=['accuracy'])"
   ]
  },
  {
   "cell_type": "code",
   "execution_count": 124,
   "metadata": {
    "collapsed": true
   },
   "outputs": [],
   "source": [
    "batch_size = 4"
   ]
  },
  {
   "cell_type": "code",
   "execution_count": 125,
   "metadata": {
    "collapsed": false
   },
   "outputs": [
    {
     "name": "stdout",
     "output_type": "stream",
     "text": [
      "Train on 16 samples, validate on 8 samples\n",
      "Epoch 1/5\n",
      "16/16 [==============================] - 0s - loss: 0.6938 - acc: 0.3750 - val_loss: 0.6679 - val_acc: 1.0000\n",
      "Epoch 2/5\n",
      "16/16 [==============================] - 0s - loss: 0.6661 - acc: 0.8125 - val_loss: 0.6481 - val_acc: 1.0000\n",
      "Epoch 3/5\n",
      "16/16 [==============================] - 0s - loss: 0.6471 - acc: 0.9375 - val_loss: 0.6314 - val_acc: 1.0000\n",
      "Epoch 4/5\n",
      "16/16 [==============================] - 0s - loss: 0.6292 - acc: 0.9375 - val_loss: 0.6169 - val_acc: 1.0000\n",
      "Epoch 5/5\n",
      "16/16 [==============================] - 0s - loss: 0.6167 - acc: 1.0000 - val_loss: 0.6036 - val_acc: 1.0000\n"
     ]
    },
    {
     "data": {
      "text/plain": [
       "<keras.callbacks.History at 0x7f50477c7240>"
      ]
     },
     "execution_count": 125,
     "metadata": {},
     "output_type": "execute_result"
    }
   ],
   "source": [
    "lm.fit(tr_features,tr_labels,batch_size=batch_size,validation_data=(val_features,val_labels),nb_epoch=5)"
   ]
  },
  {
   "cell_type": "code",
   "execution_count": 126,
   "metadata": {
    "collapsed": false
   },
   "outputs": [
    {
     "data": {
      "text/html": [
       "<a href='Tstlesson2.ipynb' target='_blank'>Tstlesson2.ipynb</a><br>"
      ],
      "text/plain": [
       "/home/jovyan/work/fastai/courses/deeplearning1/nbs/Tstlesson2.ipynb"
      ]
     },
     "execution_count": 126,
     "metadata": {},
     "output_type": "execute_result"
    }
   ],
   "source": [
    "from IPython.display import FileLink\n",
    "FileLink('Tstlesson2.ipynb')"
   ]
  }
 ],
 "metadata": {
  "kernelspec": {
   "display_name": "Python 3",
   "language": "python",
   "name": "python3"
  },
  "language_info": {
   "codemirror_mode": {
    "name": "ipython",
    "version": 3
   },
   "file_extension": ".py",
   "mimetype": "text/x-python",
   "name": "python",
   "nbconvert_exporter": "python",
   "pygments_lexer": "ipython3",
   "version": "3.5.2"
  }
 },
 "nbformat": 4,
 "nbformat_minor": 2
}
